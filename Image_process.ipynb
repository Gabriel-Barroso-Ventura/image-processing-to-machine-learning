{
  "nbformat": 4,
  "nbformat_minor": 0,
  "metadata": {
    "colab": {
      "provenance": [],
      "authorship_tag": "ABX9TyMXg3DtWoJr/GHScRBjRqwr",
      "include_colab_link": true
    },
    "kernelspec": {
      "name": "python3",
      "display_name": "Python 3"
    },
    "language_info": {
      "name": "python"
    }
  },
  "cells": [
    {
      "cell_type": "markdown",
      "metadata": {
        "id": "view-in-github",
        "colab_type": "text"
      },
      "source": [
        "<a href=\"https://colab.research.google.com/github/Gabriel-Barroso-Ventura/image-processing-to-machine-learning/blob/main/Image_process.ipynb\" target=\"_parent\"><img src=\"https://colab.research.google.com/assets/colab-badge.svg\" alt=\"Open In Colab\"/></a>"
      ]
    },
    {
      "cell_type": "markdown",
      "source": [
        "# **Image Processing For Machine Learning Networks**"
      ],
      "metadata": {
        "id": "gtAQLJ07SEPj"
      }
    },
    {
      "cell_type": "markdown",
      "source": [
        "Before the machine learning we need to process the images in the database. If we do not do this step, the learning process will get too much time.\n",
        "\n",
        "On this project we will use two types of image processing, convert a .jpg image to grayscale and binary black and white."
      ],
      "metadata": {
        "id": "kL97AfJnSlv1"
      }
    },
    {
      "cell_type": "code",
      "source": [
        "from PIL import Image\n",
        "\n",
        "# Converter JPG para BMP\n",
        "def convert_jpg_to_bmp(input_file, output_file):\n",
        "    image = Image.open(input_file)\n",
        "    image.save(output_file, format=\"BMP\")\n",
        "    print(f\"Imagem convertida para BMP: {output_file}\")\n",
        "\n",
        "# Exemplo de uso\n",
        "convert_jpg_to_bmp(\"Lion.jpg\", \"Lion.bmp\")\n",
        "\n",
        "def load_bmp(file_path):\n",
        "    \"\"\"Carrega uma imagem BMP e retorna o cabeçalho e os dados de pixel.\"\"\"\n",
        "    with open(file_path, \"rb\") as f:\n",
        "        bmp_header = f.read(54)  # O cabeçalho BMP tem 54 bytes\n",
        "        width = int.from_bytes(bmp_header[18:22], \"little\")\n",
        "        height = int.from_bytes(bmp_header[22:26], \"little\")\n",
        "        pixel_array = f.read()\n",
        "    return bmp_header, pixel_array, width, height\n",
        "\n",
        "\n",
        "def save_bmp(file_path, header, pixel_data):\n",
        "    \"\"\"Salva uma imagem BMP com o cabeçalho e os dados fornecidos.\"\"\"\n",
        "    with open(file_path, \"wb\") as f:\n",
        "        f.write(header)\n",
        "        f.write(pixel_data)\n",
        "\n",
        "\n",
        "def rgb_to_grayscale_binary(pixel_data, threshold=128):\n",
        "    grayscale_data = bytearray()\n",
        "    binary_data = bytearray()\n",
        "\n",
        "    for i in range(0, len(pixel_data), 3):\n",
        "        # Convertendo para Tons de cinza\n",
        "        b = pixel_data[i]\n",
        "        g = pixel_data[i]\n",
        "        r = pixel_data[i]\n",
        "        gray = int(0.3 * r + 0.59 * g + 0.11 * b)  # Fórmula de luminosidade\n",
        "        grayscale_data.extend([gray, gray, gray])  # Repetir o valor para RGB\n",
        "\n",
        "        # Convertendo para preto ou branco\n",
        "        binary_value = 255 if gray > threshold else 0\n",
        "        binary_data.extend([binary_value, binary_value, binary_value])\n",
        "\n",
        "    return grayscale_data, binary_data\n",
        "\n",
        "\n",
        "def main():\n",
        "    input_file_jpg = \"Lion.jpg\"\n",
        "    input_file_bmp = \"Lion.bmp\"\n",
        "    output_file_bmp_grey = \"grey-lion.bmp\"\n",
        "    output_file_bmp_binary = \"binary-lion.bmp\"\n",
        "\n",
        "    # Convert the input to BMP\n",
        "    convert_jpg_to_bmp(input_file_jpg, input_file_bmp)\n",
        "\n",
        "    # Carregar a imagem\n",
        "    header, pixel_data, width, height = load_bmp(input_file_bmp)\n",
        "\n",
        "    # Converter para tons de cinza e binario\n",
        "    grayscale_data, binary_data = rgb_to_grayscale_binary(pixel_data)\n",
        "\n",
        "    # Salvar a novas imagems\n",
        "    save_bmp(output_file_bmp_grey, header, grayscale_data)\n",
        "    save_bmp(output_file_bmp_binary, header, binary_data)\n",
        "\n",
        "    print(f\"Imagem convertida para tons de cinza e salva como {output_file_bmp_grey}\")\n",
        "    print(f\"Imagem convertida para preto e branco e salva como {output_file_bmp_binary}\")\n",
        "\n",
        "    # Converter para binario preto e branco\n",
        "\n",
        "\n",
        "\n",
        "if __name__ == \"__main__\":\n",
        "    main()"
      ],
      "metadata": {
        "colab": {
          "base_uri": "https://localhost:8080/"
        },
        "id": "DtGGLm8iSuRH",
        "outputId": "46e3bc38-6cc7-4c54-bdbe-8cd353984280"
      },
      "execution_count": null,
      "outputs": [
        {
          "output_type": "stream",
          "name": "stdout",
          "text": [
            "Imagem convertida para BMP: Lion.bmp\n",
            "Imagem convertida para BMP: Lion.bmp\n",
            "Imagem convertida para tons de cinza e salva como grey-lion.bmp\n",
            "Imagem convertida para preto e branco e salva como binary-lion.bmp\n"
          ]
        }
      ]
    }
  ]
}